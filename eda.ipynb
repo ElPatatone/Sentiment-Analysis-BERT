{
 "cells": [
  {
   "cell_type": "code",
   "execution_count": 1,
   "metadata": {},
   "outputs": [],
   "source": [
    "from transformers import AutoTokenizer, AutoModelForSequenceClassification\n",
    "import torch\n",
    "import requests\n",
    "from bs4 import BeautifulSoup\n",
    "import re"
   ]
  },
  {
   "cell_type": "code",
   "execution_count": 2,
   "metadata": {},
   "outputs": [
    {
     "data": {
      "text/plain": [
       "'NVIDIA GeForce RTX 2060'"
      ]
     },
     "execution_count": 2,
     "metadata": {},
     "output_type": "execute_result"
    }
   ],
   "source": [
    "#making sure torch is using the gpu for faster processing\n",
    "torch.cuda.get_device_name(0)"
   ]
  },
  {
   "cell_type": "code",
   "execution_count": 3,
   "metadata": {},
   "outputs": [],
   "source": [
    "#loading in a pretrained bert model finetuned for product reviews\n",
    "tokenizer = AutoTokenizer.from_pretrained('nlptown/bert-base-multilingual-uncased-sentiment')\n",
    "\n",
    "model = AutoModelForSequenceClassification.from_pretrained('nlptown/bert-base-multilingual-uncased-sentiment')"
   ]
  },
  {
   "cell_type": "code",
   "execution_count": 4,
   "metadata": {},
   "outputs": [],
   "source": [
    "#quick test of the model\n",
    "tokens = tokenizer.encode('not good', return_tensors='pt')"
   ]
  },
  {
   "cell_type": "code",
   "execution_count": 5,
   "metadata": {},
   "outputs": [
    {
     "data": {
      "text/plain": [
       "tensor([[  101, 10497, 12050,   102]])"
      ]
     },
     "execution_count": 5,
     "metadata": {},
     "output_type": "execute_result"
    }
   ],
   "source": [
    "tokens"
   ]
  },
  {
   "cell_type": "code",
   "execution_count": 6,
   "metadata": {},
   "outputs": [],
   "source": [
    "result = model(tokens)"
   ]
  },
  {
   "cell_type": "code",
   "execution_count": 7,
   "metadata": {},
   "outputs": [
    {
     "data": {
      "text/plain": [
       "SequenceClassifierOutput(loss=None, logits=tensor([[ 3.2290,  2.7093,  0.7850, -2.3145, -3.6469]],\n",
       "       grad_fn=<AddmmBackward0>), hidden_states=None, attentions=None)"
      ]
     },
     "execution_count": 7,
     "metadata": {},
     "output_type": "execute_result"
    }
   ],
   "source": [
    "#outputs some information and what we need is the ligits=tensor. This represents the probability of the text being in one of the given classes\n",
    "result"
   ]
  },
  {
   "cell_type": "code",
   "execution_count": 8,
   "metadata": {},
   "outputs": [
    {
     "data": {
      "text/plain": [
       "tensor([[ 3.2290,  2.7093,  0.7850, -2.3145, -3.6469]],\n",
       "       grad_fn=<AddmmBackward0>)"
      ]
     },
     "execution_count": 8,
     "metadata": {},
     "output_type": "execute_result"
    }
   ],
   "source": [
    "result.logits"
   ]
  },
  {
   "cell_type": "code",
   "execution_count": 9,
   "metadata": {},
   "outputs": [
    {
     "data": {
      "text/plain": [
       "1"
      ]
     },
     "execution_count": 9,
     "metadata": {},
     "output_type": "execute_result"
    }
   ],
   "source": [
    "#the output for the string \"not good\" is 1. The model seems to be working well so far.\n",
    "int(torch.argmax(result.logits))+1"
   ]
  },
  {
   "cell_type": "code",
   "execution_count": 10,
   "metadata": {},
   "outputs": [],
   "source": [
    "r = requests.get('https://www.yelp.co.uk/biz/shoryu-ramen-london?osq=Korean+BBQ')\n",
    "soup = BeautifulSoup(r.text, 'html.parser')\n",
    "regex = re.compile('.*comment.*')\n",
    "results = soup.find_all('p', {'class':regex})\n",
    "reviews = [result.text for result in results]"
   ]
  },
  {
   "cell_type": "code",
   "execution_count": 11,
   "metadata": {},
   "outputs": [
    {
     "data": {
      "text/plain": [
       "[\"The ramen is so delicious And can't wait to be back And the service was awesomeThank you\",\n",
       " 'Great ramen. Great service. Loved it and will be back again. Not a long wait to get in on a busy Saturday night. We loved everything we ordered.',\n",
       " 'A welcome respite amidst the bustle of Piccadilly Square. The rich broth, perfectly cooked noodles, and jammy eggs felt like a warm hug.',\n",
       " 'Excellent service, food, and location! The ramen was fresh and hot, the wine selection was nice, and the restroom was clean! This place is a perfect match for cold weather. The pork bun is amazing! You have to try it!',\n",
       " \"Solid tonkotsu ramen. Doesn't taste heavy but when you sip the soup, \\xa0you know it's a well made broth. I ordered to go and it came well packaged. The noodles and toppings were separated properly to nothing got soggy. The texture of the noodle and egg were right and the cha Siu was good.\",\n",
       " 'Great place and the ramen is amazing. The portion is also great and very filling. We loved everything. We also got the buns which were pretty good.',\n",
       " 'We dropped in here one afternoon and were lucky to get a table. This is reservation worthy ramen. Service was attentive and pleasing. We ordered edamame and sweet potato buns. The sweet potato bun is exquisite. A vegetarian option prior to diving into a meaty broth is always welcome. We both order the house specialty ramen and are not disappointed one bit. I know the broth is good because by the end of the meal it is gone. After slurping down some noodles I drank the rest. So good. We would definitely visit this place again.',\n",
       " 'Honestly, the most rubbish ramen i have ever tasted. Why does this has 4 star review???? doesnt even make sense. Ippudo is bad but this is worse lol. Not worth it to go or maybe if you wanna follow the hype you can but its not worth the money and your time. Not coming back ever!!!',\n",
       " 'Delicious Tonkatsu ramen and yummy Japanese fried chicken ! I am delighted to find such authentic Japanese ramen in London.',\n",
       " \"I would say I am pretty predictable when it comes to finding ramen places. \\xa0I ALWAYS try to go to at least one ramen place wherever I am. \\xa0It doesn't always work out but most of the time it does. This time, it worked out. We chose this place because it got good reviews. The inside is really nice, rustic with a modern twist. I'm almost 100% positive we were seated upstairs. My fiancee and his sister both got the tonkatsu ramen. I got the Shoryu Ganso Tonkatsu, which is their signature ramen. I think it's really difficult to f*ck up ramen, so of course, the ramen was really really good. I also got the virgin yuzu mojito, which was tart, but I liked it. I couldn't tell if it was just me but the waitress was a bit short with us. Maybe I was just imagining it. Regardless, I can see why this place gets good reviews. It's a modern-rustic place for great ramen. Perfect place for friends and dates.\"]"
      ]
     },
     "execution_count": 11,
     "metadata": {},
     "output_type": "execute_result"
    }
   ],
   "source": [
    "reviews"
   ]
  },
  {
   "cell_type": "code",
   "execution_count": 12,
   "metadata": {},
   "outputs": [],
   "source": [
    "import numpy as np\n",
    "import pandas as pd"
   ]
  },
  {
   "cell_type": "code",
   "execution_count": 13,
   "metadata": {},
   "outputs": [],
   "source": [
    "df = pd.DataFrame(np.array(reviews), columns=['review'])"
   ]
  },
  {
   "cell_type": "code",
   "execution_count": 14,
   "metadata": {},
   "outputs": [
    {
     "data": {
      "text/plain": [
       "\"The ramen is so delicious And can't wait to be back And the service was awesomeThank you\""
      ]
     },
     "execution_count": 14,
     "metadata": {},
     "output_type": "execute_result"
    }
   ],
   "source": [
    "df['review'].iloc[0]"
   ]
  },
  {
   "cell_type": "code",
   "execution_count": 15,
   "metadata": {},
   "outputs": [
    {
     "data": {
      "text/html": [
       "<div>\n",
       "<style scoped>\n",
       "    .dataframe tbody tr th:only-of-type {\n",
       "        vertical-align: middle;\n",
       "    }\n",
       "\n",
       "    .dataframe tbody tr th {\n",
       "        vertical-align: top;\n",
       "    }\n",
       "\n",
       "    .dataframe thead th {\n",
       "        text-align: right;\n",
       "    }\n",
       "</style>\n",
       "<table border=\"1\" class=\"dataframe\">\n",
       "  <thead>\n",
       "    <tr style=\"text-align: right;\">\n",
       "      <th></th>\n",
       "      <th>review</th>\n",
       "    </tr>\n",
       "  </thead>\n",
       "  <tbody>\n",
       "    <tr>\n",
       "      <th>0</th>\n",
       "      <td>The ramen is so delicious And can't wait to be...</td>\n",
       "    </tr>\n",
       "    <tr>\n",
       "      <th>1</th>\n",
       "      <td>Great ramen. Great service. Loved it and will ...</td>\n",
       "    </tr>\n",
       "    <tr>\n",
       "      <th>2</th>\n",
       "      <td>A welcome respite amidst the bustle of Piccadi...</td>\n",
       "    </tr>\n",
       "    <tr>\n",
       "      <th>3</th>\n",
       "      <td>Excellent service, food, and location! The ram...</td>\n",
       "    </tr>\n",
       "    <tr>\n",
       "      <th>4</th>\n",
       "      <td>Solid tonkotsu ramen. Doesn't taste heavy but ...</td>\n",
       "    </tr>\n",
       "    <tr>\n",
       "      <th>5</th>\n",
       "      <td>Great place and the ramen is amazing. The port...</td>\n",
       "    </tr>\n",
       "    <tr>\n",
       "      <th>6</th>\n",
       "      <td>We dropped in here one afternoon and were luck...</td>\n",
       "    </tr>\n",
       "    <tr>\n",
       "      <th>7</th>\n",
       "      <td>Honestly, the most rubbish ramen i have ever t...</td>\n",
       "    </tr>\n",
       "    <tr>\n",
       "      <th>8</th>\n",
       "      <td>Delicious Tonkatsu ramen and yummy Japanese fr...</td>\n",
       "    </tr>\n",
       "    <tr>\n",
       "      <th>9</th>\n",
       "      <td>I would say I am pretty predictable when it co...</td>\n",
       "    </tr>\n",
       "  </tbody>\n",
       "</table>\n",
       "</div>"
      ],
      "text/plain": [
       "                                              review\n",
       "0  The ramen is so delicious And can't wait to be...\n",
       "1  Great ramen. Great service. Loved it and will ...\n",
       "2  A welcome respite amidst the bustle of Piccadi...\n",
       "3  Excellent service, food, and location! The ram...\n",
       "4  Solid tonkotsu ramen. Doesn't taste heavy but ...\n",
       "5  Great place and the ramen is amazing. The port...\n",
       "6  We dropped in here one afternoon and were luck...\n",
       "7  Honestly, the most rubbish ramen i have ever t...\n",
       "8  Delicious Tonkatsu ramen and yummy Japanese fr...\n",
       "9  I would say I am pretty predictable when it co..."
      ]
     },
     "execution_count": 15,
     "metadata": {},
     "output_type": "execute_result"
    }
   ],
   "source": [
    "df"
   ]
  },
  {
   "cell_type": "code",
   "execution_count": 16,
   "metadata": {},
   "outputs": [],
   "source": [
    "def sentiment_score(review):\n",
    "    tokens = tokenizer.encode(review, return_tensors='pt')\n",
    "    result = model(tokens)\n",
    "    return int(torch.argmax(result.logits))+1"
   ]
  },
  {
   "cell_type": "code",
   "execution_count": 17,
   "metadata": {},
   "outputs": [
    {
     "data": {
      "text/plain": [
       "5"
      ]
     },
     "execution_count": 17,
     "metadata": {},
     "output_type": "execute_result"
    }
   ],
   "source": [
    "sentiment_score(df['review'].iloc[1])"
   ]
  },
  {
   "cell_type": "code",
   "execution_count": 18,
   "metadata": {},
   "outputs": [],
   "source": [
    "df['sentiment'] = df['review'].apply(lambda x: sentiment_score(x[:512]))"
   ]
  },
  {
   "cell_type": "code",
   "execution_count": 19,
   "metadata": {},
   "outputs": [
    {
     "data": {
      "text/html": [
       "<div>\n",
       "<style scoped>\n",
       "    .dataframe tbody tr th:only-of-type {\n",
       "        vertical-align: middle;\n",
       "    }\n",
       "\n",
       "    .dataframe tbody tr th {\n",
       "        vertical-align: top;\n",
       "    }\n",
       "\n",
       "    .dataframe thead th {\n",
       "        text-align: right;\n",
       "    }\n",
       "</style>\n",
       "<table border=\"1\" class=\"dataframe\">\n",
       "  <thead>\n",
       "    <tr style=\"text-align: right;\">\n",
       "      <th></th>\n",
       "      <th>review</th>\n",
       "      <th>sentiment</th>\n",
       "    </tr>\n",
       "  </thead>\n",
       "  <tbody>\n",
       "    <tr>\n",
       "      <th>0</th>\n",
       "      <td>The ramen is so delicious And can't wait to be...</td>\n",
       "      <td>5</td>\n",
       "    </tr>\n",
       "    <tr>\n",
       "      <th>1</th>\n",
       "      <td>Great ramen. Great service. Loved it and will ...</td>\n",
       "      <td>5</td>\n",
       "    </tr>\n",
       "    <tr>\n",
       "      <th>2</th>\n",
       "      <td>A welcome respite amidst the bustle of Piccadi...</td>\n",
       "      <td>5</td>\n",
       "    </tr>\n",
       "    <tr>\n",
       "      <th>3</th>\n",
       "      <td>Excellent service, food, and location! The ram...</td>\n",
       "      <td>5</td>\n",
       "    </tr>\n",
       "    <tr>\n",
       "      <th>4</th>\n",
       "      <td>Solid tonkotsu ramen. Doesn't taste heavy but ...</td>\n",
       "      <td>4</td>\n",
       "    </tr>\n",
       "    <tr>\n",
       "      <th>5</th>\n",
       "      <td>Great place and the ramen is amazing. The port...</td>\n",
       "      <td>5</td>\n",
       "    </tr>\n",
       "    <tr>\n",
       "      <th>6</th>\n",
       "      <td>We dropped in here one afternoon and were luck...</td>\n",
       "      <td>4</td>\n",
       "    </tr>\n",
       "    <tr>\n",
       "      <th>7</th>\n",
       "      <td>Honestly, the most rubbish ramen i have ever t...</td>\n",
       "      <td>1</td>\n",
       "    </tr>\n",
       "    <tr>\n",
       "      <th>8</th>\n",
       "      <td>Delicious Tonkatsu ramen and yummy Japanese fr...</td>\n",
       "      <td>5</td>\n",
       "    </tr>\n",
       "    <tr>\n",
       "      <th>9</th>\n",
       "      <td>I would say I am pretty predictable when it co...</td>\n",
       "      <td>4</td>\n",
       "    </tr>\n",
       "  </tbody>\n",
       "</table>\n",
       "</div>"
      ],
      "text/plain": [
       "                                              review  sentiment\n",
       "0  The ramen is so delicious And can't wait to be...          5\n",
       "1  Great ramen. Great service. Loved it and will ...          5\n",
       "2  A welcome respite amidst the bustle of Piccadi...          5\n",
       "3  Excellent service, food, and location! The ram...          5\n",
       "4  Solid tonkotsu ramen. Doesn't taste heavy but ...          4\n",
       "5  Great place and the ramen is amazing. The port...          5\n",
       "6  We dropped in here one afternoon and were luck...          4\n",
       "7  Honestly, the most rubbish ramen i have ever t...          1\n",
       "8  Delicious Tonkatsu ramen and yummy Japanese fr...          5\n",
       "9  I would say I am pretty predictable when it co...          4"
      ]
     },
     "execution_count": 19,
     "metadata": {},
     "output_type": "execute_result"
    }
   ],
   "source": [
    "df"
   ]
  },
  {
   "cell_type": "code",
   "execution_count": 20,
   "metadata": {},
   "outputs": [
    {
     "data": {
      "text/plain": [
       "'Excellent service, food, and location! The ramen was fresh and hot, the wine selection was nice, and the restroom was clean! This place is a perfect match for cold weather. The pork bun is amazing! You have to try it!'"
      ]
     },
     "execution_count": 20,
     "metadata": {},
     "output_type": "execute_result"
    }
   ],
   "source": [
    "df['review'].iloc[3]"
   ]
  },
  {
   "cell_type": "code",
   "execution_count": 21,
   "metadata": {},
   "outputs": [
    {
     "data": {
      "text/plain": [
       "5"
      ]
     },
     "execution_count": 21,
     "metadata": {},
     "output_type": "execute_result"
    }
   ],
   "source": [
    "df['sentiment'].iloc[3]"
   ]
  }
 ],
 "metadata": {
  "kernelspec": {
   "display_name": "Python 3.10.4 ('nlp')",
   "language": "python",
   "name": "python3"
  },
  "language_info": {
   "codemirror_mode": {
    "name": "ipython",
    "version": 3
   },
   "file_extension": ".py",
   "mimetype": "text/x-python",
   "name": "python",
   "nbconvert_exporter": "python",
   "pygments_lexer": "ipython3",
   "version": "3.10.4"
  },
  "orig_nbformat": 4,
  "vscode": {
   "interpreter": {
    "hash": "39e369d8baebfc2e2a3b04a665b0cfbe48362ed05b0102948c6fc2c6917021ef"
   }
  }
 },
 "nbformat": 4,
 "nbformat_minor": 2
}
